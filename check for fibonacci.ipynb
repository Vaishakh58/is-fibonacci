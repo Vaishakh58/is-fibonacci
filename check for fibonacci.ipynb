{
 "cells": [
  {
   "cell_type": "code",
   "execution_count": null,
   "metadata": {},
   "outputs": [],
   "source": [
    "import numpy as np\n",
    "def fib(n):\n",
    "    if n<=1:\n",
    "        return n\n",
    "    else:\n",
    "        return fib(n-1)+fib(n-2)\n",
    "    \n",
    "    \n",
    "def is_fibonacci(lst):\n",
    "    fs=[]\n",
    "    for i in range(max(lst)+1):\n",
    "        fs.append(fib(i))\n",
    "    fs=np.asarray(fs)\n",
    "    res=all(j in fs  for j in lst)\n",
    "    return res\n",
    "\n",
    "\n",
    "is_fibonacci([1,3,4]) ##Enter the input Here"
   ]
  },
  {
   "cell_type": "code",
   "execution_count": null,
   "metadata": {},
   "outputs": [],
   "source": []
  }
 ],
 "metadata": {
  "kernelspec": {
   "display_name": "Python 3",
   "language": "python",
   "name": "python3"
  },
  "language_info": {
   "codemirror_mode": {
    "name": "ipython",
    "version": 3
   },
   "file_extension": ".py",
   "mimetype": "text/x-python",
   "name": "python",
   "nbconvert_exporter": "python",
   "pygments_lexer": "ipython3",
   "version": "3.6.5"
  }
 },
 "nbformat": 4,
 "nbformat_minor": 2
}
